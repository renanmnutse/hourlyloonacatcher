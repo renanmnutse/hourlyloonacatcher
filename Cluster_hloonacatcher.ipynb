{
  "nbformat": 4,
  "nbformat_minor": 0,
  "metadata": {
    "colab": {
      "name": "Cluster hloonacatcher.ipynb",
      "provenance": [],
      "collapsed_sections": []
    },
    "kernelspec": {
      "display_name": "Python 3",
      "name": "python3"
    }
  },
  "cells": [
    {
      "cell_type": "markdown",
      "metadata": {
        "id": "OU4AAstR0HG6"
      },
      "source": [
        "# Descritores de Imagens via Histograma de Cor\n",
        "\n",
        "Exemplos baseados em https://github.com/xn2333/OpenCV/blob/master/Seminar_Image_Processing_in_Python.ipynb*\n",
        "\n",
        "\n",
        "\n",
        "\n",
        "\n"
      ]
    },
    {
      "cell_type": "markdown",
      "metadata": {
        "id": "HFHge950Mca1"
      },
      "source": [
        "# Instalando Bibliotecas"
      ]
    },
    {
      "cell_type": "code",
      "metadata": {
        "id": "6dy-iP-VTibt"
      },
      "source": [
        "import numpy as np\n",
        "import pandas as pd\n",
        "import cv2 as cv \n",
        "from google.colab.patches import cv2_imshow # for image display\n",
        "from skimage import io\n",
        "from PIL import Image \n",
        "import matplotlib.pylab as plt"
      ],
      "execution_count": 1,
      "outputs": []
    },
    {
      "cell_type": "markdown",
      "metadata": {
        "id": "mf4fV9OiPRM7"
      },
      "source": [
        "# Vamos construir nosso dataset"
      ]
    },
    {
      "cell_type": "code",
      "metadata": {
        "colab": {
          "base_uri": "https://localhost:8080/"
        },
        "id": "6vIbaraW9cIn",
        "outputId": "e31261a9-fa3c-4ce0-8bd6-5fe8a838efbf"
      },
      "source": [
        "from google.colab import drive\n",
        "drive.mount('/content/drive')"
      ],
      "execution_count": 2,
      "outputs": [
        {
          "output_type": "stream",
          "text": [
            "Mounted at /content/drive\n"
          ],
          "name": "stdout"
        }
      ]
    },
    {
      "cell_type": "code",
      "metadata": {
        "colab": {
          "base_uri": "https://localhost:8080/"
        },
        "id": "tamKtShzqe3n",
        "outputId": "c6b07639-fee0-4432-a89f-703735612ccc"
      },
      "source": [
        "import shutil, sys\n",
        "\n",
        "# move used images\n",
        "dataset = pd.read_csv('/content/drive/MyDrive/hourlyloonacatcher_dfs/df_dataset.csv')\n",
        "print(dataset)\n",
        "for index, row in dataset.iterrows():\n",
        "  if row['post']:\n",
        "    shutil.move(\"/content/drive/MyDrive/hourlyloonacatcher/\" + row['group'] + \"/\" + row['filename'], \"/content/drive/MyDrive/hourlyloonacatcher/\" + row['group'] + \"/posted/\")\n",
        "    dataset = dataset.drop([index])\n",
        "\n",
        "dataset = dataset.reset_index().drop(columns='index')\n",
        "print(dataset)\n",
        "dataset.to_csv('/content/drive/MyDrive/hourlyloonacatcher_dfs/df_dataset.csv')"
      ],
      "execution_count": null,
      "outputs": [
        {
          "output_type": "stream",
          "text": [
            "       Unnamed: 0   group         filename   post\n",
            "0               0   loona   jinsoul130.jpg  False\n",
            "1               1   loona   jinsoul135.jpg  False\n",
            "2               2   loona   jinsoul134.jpg   True\n",
            "3               3   loona   jinsoul132.jpg   True\n",
            "4               4   loona   jinsoul136.jpg   True\n",
            "...           ...     ...              ...    ...\n",
            "12325       12325  deukae   siyeon1017.jpg  False\n",
            "12326       12326  deukae      dami840.jpg  False\n",
            "12327       12327  deukae  yoohyeon530.jpg  False\n",
            "12328       12328  deukae    siyeon888.jpg  False\n",
            "12329       12329  deukae      dami788.jpg  False\n",
            "\n",
            "[12330 rows x 4 columns]\n",
            "       Unnamed: 0   group         filename   post\n",
            "0               0   loona   jinsoul130.jpg  False\n",
            "1               1   loona   jinsoul135.jpg  False\n",
            "2               7   loona   jinsoul137.jpg  False\n",
            "3               8   loona   jinsoul140.jpg  False\n",
            "4              10   loona   jinsoul142.jpg  False\n",
            "...           ...     ...              ...    ...\n",
            "10021       12325  deukae   siyeon1017.jpg  False\n",
            "10022       12326  deukae      dami840.jpg  False\n",
            "10023       12327  deukae  yoohyeon530.jpg  False\n",
            "10024       12328  deukae    siyeon888.jpg  False\n",
            "10025       12329  deukae      dami788.jpg  False\n",
            "\n",
            "[10026 rows x 4 columns]\n"
          ],
          "name": "stdout"
        }
      ]
    },
    {
      "cell_type": "code",
      "metadata": {
        "colab": {
          "base_uri": "https://localhost:8080/"
        },
        "id": "mRbpONE69Cf4",
        "outputId": "327c1e16-89a5-4363-f578-87a9234b7f32"
      },
      "source": [
        "# percentagens taken by each girl\r\n",
        "\r\n",
        "loona = [\r\n",
        "      'heejin',\r\n",
        "      'hyunjin',\r\n",
        "      'haseul',\r\n",
        "      'yeojin',\r\n",
        "      'vivi',\r\n",
        "      'kimlip',\r\n",
        "      'jinsoul',\r\n",
        "      'choerry',\r\n",
        "      'yves',\r\n",
        "      'chuu',\r\n",
        "      'gowon',\r\n",
        "      'oliviahye'\r\n",
        "  ]\r\n",
        "\r\n",
        "deukae = [\r\n",
        "    \"jiu\",\r\n",
        "    \"sua\",\r\n",
        "    \"siyeon\",\r\n",
        "    \"handong\",\r\n",
        "    \"yoohyeon\",\r\n",
        "    \"dami\",\r\n",
        "    \"gahyeon\"\r\n",
        "]\r\n",
        "\r\n",
        "images = pd.read_csv('/content/drive/MyDrive/hourlyloonacatcher_dfs/images_to_post.csv')\r\n",
        "\r\n",
        "for l in loona:\r\n",
        "    print('{0}: {1}'.format(l,(100 * len(images[images['loona'].str.contains(l)].index) / len(images.index))))\r\n",
        "\r\n",
        "print()\r\n",
        "\r\n",
        "for d in deukae:\r\n",
        "    print('{0}: {1}'.format(d,(100 * len(images[images['deukae'].str.contains(d)].index) / len(images.index))))   \r\n"
      ],
      "execution_count": 3,
      "outputs": [
        {
          "output_type": "stream",
          "text": [
            "heejin: 7.958477508650519\n",
            "hyunjin: 9.342560553633218\n",
            "haseul: 8.650519031141869\n",
            "yeojin: 9.342560553633218\n",
            "vivi: 7.958477508650519\n",
            "kimlip: 6.920415224913495\n",
            "jinsoul: 9.688581314878892\n",
            "choerry: 8.996539792387543\n",
            "yves: 8.304498269896193\n",
            "chuu: 6.57439446366782\n",
            "gowon: 8.650519031141869\n",
            "oliviahye: 7.612456747404845\n",
            "\n",
            "jiu: 12.802768166089965\n",
            "sua: 14.53287197231834\n",
            "siyeon: 14.53287197231834\n",
            "handong: 13.494809688581315\n",
            "yoohyeon: 15.22491349480969\n",
            "dami: 14.186851211072664\n",
            "gahyeon: 15.22491349480969\n"
          ],
          "name": "stdout"
        }
      ]
    },
    {
      "cell_type": "code",
      "metadata": {
        "id": "cLfL1Ixt2ZmT"
      },
      "source": [
        "loona = [\n",
        "      'heejin',\n",
        "      'hyunjin',\n",
        "      'haseul',\n",
        "      'yeojin',\n",
        "      'vivi',\n",
        "      'kimlip',\n",
        "      'jinsoul',\n",
        "      'choerry',\n",
        "      'yves',\n",
        "      'chuu',\n",
        "      'gowon',\n",
        "      'oliviahye'\n",
        "  ]\n",
        "\n",
        "deukae = [\n",
        "    \"jiu\",\n",
        "    \"sua\",\n",
        "    \"siyeon\",\n",
        "    \"handong\",\n",
        "    \"yoohyeon\",\n",
        "    \"dami\",\n",
        "    \"gahyeon\"\n",
        "]\n",
        "\n",
        "pairs = {}\n",
        "for l in loona:\n",
        "  for d in deukae:\n",
        "    pairs[l + '_' + d] = 0\n",
        "\n",
        "post_log = pd.read_csv('/content/drive/MyDrive/hourlyloonacatcher/post_log.csv')\n",
        "\n",
        "for index, row in post_log.iterrows():\n",
        "  pairs[row['loona'] + '_' + row['deukae']] += 1\n",
        "\n",
        "pairs_df = {'girls': [], 'values': []}\n",
        "for key, value in pairs.items():\n",
        "  pairs_df['girls'].append(key)\n",
        "  pairs_df['values'].append(100 * (value / len(post_log.index)))\n",
        "\n",
        "pairs_df = pd.DataFrame(pairs_df)\n",
        "pairs_df.to_csv('/content/drive/MyDrive/hourlyloonacatcher_dfs/log_stats.csv')"
      ],
      "execution_count": null,
      "outputs": []
    },
    {
      "cell_type": "code",
      "metadata": {
        "id": "BdCc7sN0Q8nc"
      },
      "source": [
        "def load_zero():\n",
        "  import os\n",
        "\n",
        "  path = '/content/drive/MyDrive/hourlyloonacatcher/'\n",
        "\n",
        "  dataset = {\"group\": [], \"filename\": [], \"image\": [], \"post\": []}\n",
        "  for filename in os.listdir(path + 'loona/'):\n",
        "      img = cv.imread(path + 'loona/' + filename)\n",
        "      if img is not None:\n",
        "          dataset[\"group\"].append('loona')\n",
        "          dataset[\"filename\"].append(filename)\n",
        "          dataset[\"image\"].append(img)\n",
        "          dataset[\"post\"].append(False)\n",
        "\n",
        "  for filename in os.listdir(path + 'deukae/'):\n",
        "      img = cv.imread(path + 'deukae/' + filename)\n",
        "      if img is not None:\n",
        "          dataset[\"group\"].append('deukae')\n",
        "          dataset[\"filename\"].append(filename)\n",
        "          dataset[\"image\"].append(img)\n",
        "          dataset[\"post\"].append(False)\n",
        "\n",
        "  return dataset\n",
        "\n",
        "def load_flying():\n",
        "  import os\n",
        "\n",
        "  path = '/content/drive/MyDrive/hourlyloonacatcher/'\n",
        "\n",
        "  dataset = pd.read_csv('/content/drive/MyDrive/hourlyloonacatcher_dfs/df_dataset.csv').drop(columns='Unnamed: 0').reset_index().drop(columns='index').to_dict(orient='list')\n",
        "  dataset[\"image\"] = []\n",
        "  for filename in os.listdir(path + 'loona/'):\n",
        "      img = cv.imread(path + 'loona/' + filename)\n",
        "      if img is not None and filename not in dataset[\"filename\"]:\n",
        "        dataset[\"group\"].append('loona')\n",
        "        dataset[\"filename\"].append(filename)\n",
        "        dataset[\"image\"].append(img)\n",
        "        dataset[\"post\"].append(False)\n",
        "      elif img is not None:\n",
        "        dataset[\"image\"].append(img)\n",
        "\n",
        "  for filename in os.listdir(path + 'deukae/'):\n",
        "      img = cv.imread(path + 'deukae/' + filename)\n",
        "      if img is not None and filename not in dataset[\"filename\"]:\n",
        "        dataset[\"group\"].append('deukae')\n",
        "        dataset[\"filename\"].append(filename)\n",
        "        dataset[\"image\"].append(img)\n",
        "        dataset[\"post\"].append(False)\n",
        "      elif img is not None:\n",
        "        dataset[\"image\"].append(img)\n",
        "\n",
        "  return dataset"
      ],
      "execution_count": null,
      "outputs": []
    },
    {
      "cell_type": "markdown",
      "metadata": {
        "id": "OinBn2XWVEUw"
      },
      "source": [
        "# Extraindo características do dataset usando Histograma de Cor"
      ]
    },
    {
      "cell_type": "code",
      "metadata": {
        "id": "C9R7ZuPrVISf"
      },
      "source": [
        "def prepareX(dataset):\n",
        "  color = ('b','g','r')\n",
        "\n",
        "  dataset_hist_r = []\n",
        "  dataset_hist_g = []\n",
        "  dataset_hist_b = []\n",
        "\n",
        "  counter = 0\n",
        "  for image in dataset[\"image\"]:\n",
        "    hists = {}\n",
        "    for i,col in enumerate(color):\n",
        "      histr = cv.calcHist([image],[i],None,[256],[0,256])\n",
        "      if col == 'r': dataset_hist_r.append(histr)\n",
        "      if col == 'g': dataset_hist_g.append(histr)\n",
        "      if col == 'b': dataset_hist_b.append(histr)\n",
        "\n",
        "\n",
        "  X_r = np.array(dataset_hist_r)\n",
        "  length = np.sqrt((X_r**2).sum(axis=1))[:,None]\n",
        "  X_r = X_r / length\n",
        "\n",
        "  X_g = np.array(dataset_hist_g)\n",
        "  length = np.sqrt((X_g**2).sum(axis=1))[:,None]\n",
        "  X_g = X_g / length\n",
        "\n",
        "\n",
        "  X_b = np.array(dataset_hist_b)\n",
        "  length = np.sqrt((X_b**2).sum(axis=1))[:,None]\n",
        "  X_b = X_b / length\n",
        "\n",
        "  X = np.concatenate((X_r,X_g,X_g),axis=1)\n",
        "  X.shape\n",
        "\n",
        "  X = X.reshape(X.shape[0],X.shape[1])\n",
        "  X.shape\n",
        "\n",
        "  return X"
      ],
      "execution_count": null,
      "outputs": []
    },
    {
      "cell_type": "markdown",
      "metadata": {
        "id": "n0KJ7fVqnQEx"
      },
      "source": [
        "# Agrupamento de Imagens"
      ]
    },
    {
      "cell_type": "code",
      "metadata": {
        "id": "v2BJaaKinRXV"
      },
      "source": [
        "from sklearn.cluster import KMeans\n",
        "import numpy as np\n",
        "\n",
        "def do_kmeans(X, n_clusters=100):\n",
        "  kmeans = KMeans(n_clusters=n_clusters).fit(X)\n",
        "  return kmeans"
      ],
      "execution_count": null,
      "outputs": []
    },
    {
      "cell_type": "markdown",
      "metadata": {
        "id": "RUlfDz2RSrED"
      },
      "source": [
        "## Escolher a imagem"
      ]
    },
    {
      "cell_type": "code",
      "metadata": {
        "id": "9Ndoeo90S2qT"
      },
      "source": [
        "def get_probs(loona_prob = [100/12] * 12, deukae_prob = [100/7] * 7):\n",
        "  loona = [\n",
        "      'heejin',\n",
        "      'hyunjin',\n",
        "      'haseul',\n",
        "      'yeojin',\n",
        "      'vivi',\n",
        "      'kimlip',\n",
        "      'jinsoul',\n",
        "      'choerry',\n",
        "      'yves',\n",
        "      'chuu',\n",
        "      'gowon',\n",
        "      'oliviahye'\n",
        "  ]\n",
        "\n",
        "  deukae = [\n",
        "      \"jiu\",\n",
        "      \"sua\",\n",
        "      \"siyeon\",\n",
        "      \"handong\",\n",
        "      \"yoohyeon\",\n",
        "      \"dami\",\n",
        "      \"gahyeon\"\n",
        "  ]\n",
        "\n",
        "  return loona, loona_prob, deukae, deukae_prob"
      ],
      "execution_count": null,
      "outputs": []
    },
    {
      "cell_type": "code",
      "metadata": {
        "id": "pyxgY2_2Yfpc"
      },
      "source": [
        "def update_probs(loona_prob, deukae_prob, loona, deukae, loona_choice, deukae_choice):\r\n",
        "  for i in range(len(loona)):\r\n",
        "    if loona[i] not in loona_choice:\r\n",
        "      loona_prob[i] += 100/12\r\n",
        "    else:\r\n",
        "      loona_prob[i] = 100/12\r\n",
        "\r\n",
        "  for i in range(len(deukae)):\r\n",
        "    if deukae[i] not in deukae_choice:\r\n",
        "      deukae_prob[i] += 100/7\r\n",
        "    else:\r\n",
        "      deukae_prob[i] = 100/7\r\n",
        "\r\n",
        "  return loona_prob, deukae_prob"
      ],
      "execution_count": null,
      "outputs": []
    },
    {
      "cell_type": "code",
      "metadata": {
        "id": "E7WLTcT7xa6H"
      },
      "source": [
        "import random \n",
        "from sklearn.metrics import silhouette_samples\n",
        "\n",
        "n_clusters = 50\n",
        "\n",
        "def first_run():  \n",
        "\n",
        "  dataset = load_zero()\n",
        "  X = prepareX(dataset)\n",
        "  kmeans = do_kmeans(X, n_clusters) \n",
        "  cluster_labels = kmeans.labels_\n",
        "\n",
        "  sample_silhouette_values = silhouette_samples(X, cluster_labels)\n",
        "\n",
        "  means_lst = []\n",
        "  for label in range(n_clusters):\n",
        "      means_lst.append(sample_silhouette_values[cluster_labels == label].mean())\n",
        "\n",
        "  clusterList = [x for _,x in sorted(zip(means_lst,range(n_clusters)))]\n",
        "\n",
        "  imageLoona = None\n",
        "  imageDeukae = None\n",
        "\n",
        "  images_to_post = {'loona': [], 'deukae': []}\n",
        "\n",
        "  # first time\n",
        "\n",
        "  loona, loona_prob, deukae, deukae_prob = get_probs()\n",
        "  loona_choice = random.choices(loona, weights=loona_prob, k=1) \n",
        "  deukae_choice = random.choices(deukae, weights=deukae_prob, k=1) \n",
        "  loona_prob, deukae_prob = update_probs(loona_prob, deukae_prob, loona, deukae, loona_choice, deukae_choice)\n",
        "\n",
        "  for i in range(192):\n",
        "    print(loona_choice[0], deukae_choice[0]) \n",
        "    imageLoona, imageDeukae = -1, -1\n",
        "    #get image pair for post\n",
        "    for c in clusterList:\n",
        "      for image_id, cluster in enumerate(cluster_labels):\n",
        "          if not dataset[\"post\"][image_id]:\n",
        "            if cluster == c:\n",
        "              if loona_choice[0] in dataset[\"filename\"][image_id]:\n",
        "                print(image_id)\n",
        "                imageLoona = image_id\n",
        "                break\n",
        "\n",
        "      for image_id, cluster in enumerate(cluster_labels):\n",
        "          if not dataset[\"post\"][image_id]:\n",
        "            if cluster == c:\n",
        "              if deukae_choice[0] in dataset[\"filename\"][image_id]:\n",
        "                print(image_id)\n",
        "                imageDeukae = image_id\n",
        "                break\n",
        "\n",
        "      if (imageLoona != -1) and (imageDeukae != -1):\n",
        "        dataset[\"post\"][imageLoona] = True\n",
        "        dataset[\"post\"][imageDeukae] = True\n",
        "        # new pair\n",
        "        loona_choice = random.choices(loona, weights=loona_prob, k=1) \n",
        "        deukae_choice = random.choices(deukae, weights=deukae_prob, k=1) \n",
        "        loona_prob, deukae_prob = update_probs(loona_prob, deukae_prob, loona, deukae, loona_choice, deukae_choice)\n",
        "        # get out and choose right image\n",
        "        break\n",
        "    \n",
        "    if (imageLoona != -1) and (imageDeukae != -1):\n",
        "      images_to_post['loona'].append(dataset[\"filename\"][imageLoona])\n",
        "      images_to_post['deukae'].append(dataset[\"filename\"][imageDeukae])\n",
        "    else:\n",
        "      print(\"No more image combinations for the pair\")\n",
        "\n",
        "    #cv2_imshow(dataset[\"image\"][imageLoona])\n",
        "    #cv2_imshow(dataset[\"image\"][imageDeukae])\n",
        "\n",
        "  # generate dfs for saving\n",
        "\n",
        "  del dataset['image']\n",
        "  df_dataset = pd.DataFrame(dataset)\n",
        "\n",
        "  df_images_to_post = pd.DataFrame(images_to_post)\n",
        "\n",
        "  df_loona = {'name': [], 'prob': []}\n",
        "  df_loona['name'] = loona\n",
        "  df_loona['prob'] = loona_prob\n",
        "  df_loona = pd.DataFrame(df_loona)\n",
        "\n",
        "  df_deukae = {'name': [], 'prob': []}\n",
        "  df_deukae['name'] = deukae\n",
        "  df_deukae['prob'] = deukae_prob\n",
        "  df_deukae = pd.DataFrame(df_deukae)\n",
        "\n",
        "  df_dataset.to_csv('/content/drive/MyDrive/hourlyloonacatcher_dfs/df_dataset.csv')\n",
        "  df_images_to_post.to_csv('/content/drive/MyDrive/hourlyloonacatcher_dfs/images_to_post.csv')\n",
        "  df_loona.to_csv('/content/drive/MyDrive/hourlyloonacatcher_dfs/df_loona.csv')\n",
        "  df_deukae.to_csv('/content/drive/MyDrive/hourlyloonacatcher_dfs/df_deukae.csv')\n",
        "\n",
        "def flying_run():  \n",
        "\n",
        "  dataset = load_flying()\n",
        "  X = prepareX(dataset)\n",
        "  kmeans = do_kmeans(X, n_clusters) \n",
        "  cluster_labels = kmeans.labels_\n",
        "\n",
        "  sample_silhouette_values = silhouette_samples(X, cluster_labels)\n",
        "\n",
        "  means_lst = []\n",
        "  for label in range(n_clusters):\n",
        "      means_lst.append(sample_silhouette_values[cluster_labels == label].mean())\n",
        "\n",
        "  clusterList = [x for _,x in sorted(zip(means_lst,range(n_clusters)))]\n",
        "\n",
        "  imageLoona = None\n",
        "  imageDeukae = None\n",
        "\n",
        "  images_to_post = pd.read_csv('/content/drive/MyDrive/hourlyloonacatcher/images_to_post.csv').drop(columns='Unnamed: 0').reset_index().drop(columns='index').to_dict(orient='list')\n",
        "  #df_loona = pd.read_csv('/content/drive/MyDrive/hourlyloonacatcher_dfs/df_loona.csv').drop(columns='Unnamed: 0').reset_index().drop(columns='index')\n",
        "  #loona, loona_prob = list(df_loona['name']), list(df_loona['prob'])\n",
        "  #df_deukae = pd.read_csv('/content/drive/MyDrive/hourlyloonacatcher_dfs/df_deukae.csv').drop(columns='Unnamed: 0').reset_index().drop(columns='index')\n",
        "  #deukae, deukae_prob = list(df_deukae['name']), list(df_deukae['prob'])\n",
        "  loona, loona_prob, deukae, deukae_prob = get_probs()\n",
        "\n",
        "  loona_choice = random.choices(loona, weights=loona_prob, k=1) \n",
        "  deukae_choice = random.choices(deukae, weights=deukae_prob, k=1) \n",
        "  loona_prob, deukae_prob = update_probs(loona_prob, deukae_prob, loona, deukae, loona_choice, deukae_choice)\n",
        "\n",
        "  for i in range(192):\n",
        "    print(loona_choice[0], deukae_choice[0]) \n",
        "    imageLoona, imageDeukae = -1, -1\n",
        "    #get image pair for post\n",
        "    for c in clusterList:\n",
        "      for image_id, cluster in enumerate(cluster_labels):\n",
        "          if not dataset[\"post\"][image_id]:\n",
        "            if cluster == c:\n",
        "              if loona_choice[0] in dataset[\"filename\"][image_id]:\n",
        "                print(image_id)\n",
        "                imageLoona = image_id\n",
        "                break\n",
        "\n",
        "      for image_id, cluster in enumerate(cluster_labels):\n",
        "          if not dataset[\"post\"][image_id]:\n",
        "            if cluster == c:\n",
        "              if deukae_choice[0] in dataset[\"filename\"][image_id]:\n",
        "                print(image_id)\n",
        "                imageDeukae = image_id\n",
        "                break\n",
        "\n",
        "      if (imageLoona != -1) and (imageDeukae != -1):\n",
        "        dataset[\"post\"][imageLoona] = True\n",
        "        dataset[\"post\"][imageDeukae] = True\n",
        "        # new pair\n",
        "        loona_choice = random.choices(loona, weights=loona_prob, k=1) \n",
        "        deukae_choice = random.choices(deukae, weights=deukae_prob, k=1) \n",
        "        loona_prob, deukae_prob = update_probs(loona_prob, deukae_prob, loona, deukae, loona_choice, deukae_choice)\n",
        "        # get out and choose right image\n",
        "        break\n",
        "    \n",
        "    if (imageLoona != -1) and (imageDeukae != -1):\n",
        "      images_to_post['loona'].append(dataset[\"filename\"][imageLoona])\n",
        "      images_to_post['deukae'].append(dataset[\"filename\"][imageDeukae])\n",
        "    else:\n",
        "      print(\"No more image combinations for the pair\")\n",
        "\n",
        "    #cv2_imshow(dataset[\"image\"][imageLoona])\n",
        "    #cv2_imshow(dataset[\"image\"][imageDeukae])\n",
        "\n",
        "  # generate dfs for saving\n",
        "\n",
        "  del dataset['image']\n",
        "  df_dataset = pd.DataFrame(dataset)\n",
        "\n",
        "  df_images_to_post = pd.DataFrame(images_to_post)\n",
        "\n",
        "  df_loona = {'name': [], 'prob': []}\n",
        "  df_loona['name'] = loona\n",
        "  df_loona['prob'] = loona_prob\n",
        "  df_loona = pd.DataFrame(df_loona)\n",
        "\n",
        "  df_deukae = {'name': [], 'prob': []}\n",
        "  df_deukae['name'] = deukae\n",
        "  df_deukae['prob'] = deukae_prob\n",
        "  df_deukae = pd.DataFrame(df_deukae)\n",
        "\n",
        "  df_dataset.to_csv('/content/drive/MyDrive/hourlyloonacatcher_dfs/df_dataset.csv')\n",
        "  df_images_to_post.to_csv('/content/drive/MyDrive/hourlyloonacatcher_dfs/images_to_post.csv')\n",
        "  df_loona.to_csv('/content/drive/MyDrive/hourlyloonacatcher_dfs/df_loona.csv')\n",
        "  df_deukae.to_csv('/content/drive/MyDrive/hourlyloonacatcher_dfs/df_deukae.csv')\n"
      ],
      "execution_count": null,
      "outputs": []
    },
    {
      "cell_type": "code",
      "metadata": {
        "id": "nFcOO_Er-XJk"
      },
      "source": [
        "# when no images pairs were generated previously\n",
        "#first_run()\n",
        "\n",
        "# when image pairs are already being posted\n",
        "flying_run()"
      ],
      "execution_count": null,
      "outputs": []
    },
    {
      "cell_type": "code",
      "metadata": {
        "id": "8TqnKTryNrv3"
      },
      "source": [
        "df = pd.read_csv('/content/drive/MyDrive/hourlyloonacatcher_dfs/df_dataset.csv').drop(columns='Unnamed: 0').reset_index().drop(columns='index')"
      ],
      "execution_count": null,
      "outputs": []
    },
    {
      "cell_type": "code",
      "metadata": {
        "id": "If2zm-vzN806",
        "colab": {
          "base_uri": "https://localhost:8080/"
        },
        "outputId": "24975240-01ed-40ef-db51-96408b1a18ba"
      },
      "source": [
        "len(df[df['post'] == True])"
      ],
      "execution_count": null,
      "outputs": [
        {
          "output_type": "execute_result",
          "data": {
            "text/plain": [
              "1152"
            ]
          },
          "metadata": {
            "tags": []
          },
          "execution_count": 5
        }
      ]
    }
  ]
}