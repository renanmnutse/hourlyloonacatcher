{
  "nbformat": 4,
  "nbformat_minor": 0,
  "metadata": {
    "colab": {
      "name": "Cluster hloonacatcher.ipynb",
      "provenance": [],
      "collapsed_sections": []
    },
    "kernelspec": {
      "display_name": "Python 3",
      "name": "python3"
    }
  },
  "cells": [
    {
      "cell_type": "markdown",
      "metadata": {
        "id": "OU4AAstR0HG6"
      },
      "source": [
        "# Descritores de Imagens via Histograma de Cor\n",
        "\n",
        "Exemplos baseados em https://github.com/xn2333/OpenCV/blob/master/Seminar_Image_Processing_in_Python.ipynb*\n",
        "\n",
        "\n",
        "\n",
        "\n",
        "\n"
      ]
    },
    {
      "cell_type": "markdown",
      "metadata": {
        "id": "HFHge950Mca1"
      },
      "source": [
        "# Instalando Bibliotecas"
      ]
    },
    {
      "cell_type": "code",
      "metadata": {
        "id": "6dy-iP-VTibt"
      },
      "source": [
        "import numpy as np\n",
        "import pandas as pd\n",
        "import cv2 as cv \n",
        "from google.colab.patches import cv2_imshow # for image display\n",
        "from skimage import io\n",
        "from PIL import Image \n",
        "import matplotlib.pylab as plt"
      ],
      "execution_count": null,
      "outputs": []
    },
    {
      "cell_type": "markdown",
      "metadata": {
        "id": "mf4fV9OiPRM7"
      },
      "source": [
        "# Vamos construir nosso dataset"
      ]
    },
    {
      "cell_type": "code",
      "metadata": {
        "colab": {
          "base_uri": "https://localhost:8080/"
        },
        "id": "6vIbaraW9cIn",
        "outputId": "f6a4b6a3-a4ee-48c1-d8e0-57c1b2f936ae"
      },
      "source": [
        "from google.colab import drive\n",
        "drive.mount('/content/drive')"
      ],
      "execution_count": null,
      "outputs": [
        {
          "output_type": "stream",
          "text": [
            "Mounted at /content/drive\n"
          ],
          "name": "stdout"
        }
      ]
    },
    {
      "cell_type": "code",
      "metadata": {
        "id": "BdCc7sN0Q8nc"
      },
      "source": [
        "def load_zero():\n",
        "  import os\n",
        "\n",
        "  path = '/content/drive/MyDrive/hourlyloonacatcher/'\n",
        "\n",
        "  dataset = {\"group\": [], \"filename\": [], \"image\": [], \"post\": []}\n",
        "  for filename in os.listdir(path + 'loona/'):\n",
        "      img = cv.imread(path + 'loona/' + filename)\n",
        "      if img is not None:\n",
        "          dataset[\"group\"].append('loona')\n",
        "          dataset[\"filename\"].append(filename)\n",
        "          dataset[\"image\"].append(img)\n",
        "          dataset[\"post\"].append(False)\n",
        "\n",
        "  for filename in os.listdir(path + 'deukae/'):\n",
        "      img = cv.imread(path + 'deukae/' + filename)\n",
        "      if img is not None:\n",
        "          dataset[\"group\"].append('deukae')\n",
        "          dataset[\"filename\"].append(filename)\n",
        "          dataset[\"image\"].append(img)\n",
        "          dataset[\"post\"].append(False)\n",
        "\n",
        "  return dataset"
      ],
      "execution_count": null,
      "outputs": []
    },
    {
      "cell_type": "markdown",
      "metadata": {
        "id": "OinBn2XWVEUw"
      },
      "source": [
        "# Extraindo características do dataset usando Histograma de Cor"
      ]
    },
    {
      "cell_type": "code",
      "metadata": {
        "id": "C9R7ZuPrVISf"
      },
      "source": [
        "def prepareX(dataset):\n",
        "  color = ('b','g','r')\n",
        "\n",
        "  dataset_hist_r = []\n",
        "  dataset_hist_g = []\n",
        "  dataset_hist_b = []\n",
        "\n",
        "  counter = 0\n",
        "  for image in dataset[\"image\"]:\n",
        "    hists = {}\n",
        "    for i,col in enumerate(color):\n",
        "      histr = cv.calcHist([image],[i],None,[256],[0,256])\n",
        "      if col == 'r': dataset_hist_r.append(histr)\n",
        "      if col == 'g': dataset_hist_g.append(histr)\n",
        "      if col == 'b': dataset_hist_b.append(histr)\n",
        "\n",
        "\n",
        "  X_r = np.array(dataset_hist_r)\n",
        "  length = np.sqrt((X_r**2).sum(axis=1))[:,None]\n",
        "  X_r = X_r / length\n",
        "\n",
        "  X_g = np.array(dataset_hist_g)\n",
        "  length = np.sqrt((X_g**2).sum(axis=1))[:,None]\n",
        "  X_g = X_g / length\n",
        "\n",
        "\n",
        "  X_b = np.array(dataset_hist_b)\n",
        "  length = np.sqrt((X_b**2).sum(axis=1))[:,None]\n",
        "  X_b = X_b / length\n",
        "\n",
        "  X = np.concatenate((X_r,X_g,X_g),axis=1)\n",
        "  X.shape\n",
        "\n",
        "  X = X.reshape(X.shape[0],X.shape[1])\n",
        "  X.shape\n",
        "\n",
        "  return X"
      ],
      "execution_count": null,
      "outputs": []
    },
    {
      "cell_type": "markdown",
      "metadata": {
        "id": "n0KJ7fVqnQEx"
      },
      "source": [
        "# Agrupamento de Imagens"
      ]
    },
    {
      "cell_type": "code",
      "metadata": {
        "id": "v2BJaaKinRXV"
      },
      "source": [
        "from sklearn.cluster import KMeans\n",
        "import numpy as np\n",
        "\n",
        "def do_kmeans(X, n_clusters=100):\n",
        "  kmeans = KMeans(n_clusters=n_clusters).fit(X)\n",
        "  return kmeans"
      ],
      "execution_count": null,
      "outputs": []
    },
    {
      "cell_type": "markdown",
      "metadata": {
        "id": "RUlfDz2RSrED"
      },
      "source": [
        "## Escolher a imagem"
      ]
    },
    {
      "cell_type": "code",
      "metadata": {
        "id": "9Ndoeo90S2qT"
      },
      "source": [
        "def get_probs(loona_prob = [1.0/12] * 12, deukae_prob = [1.0/7] * 7):\n",
        "  loona = [\n",
        "      'heejin',\n",
        "      'hyunjin',\n",
        "      'haseul',\n",
        "      'yeojin',\n",
        "      'vivi',\n",
        "      'kimlip',\n",
        "      'jinsoul',\n",
        "      'choerry',\n",
        "      'yves',\n",
        "      'chuu',\n",
        "      'gowon',\n",
        "      'oliviahye'\n",
        "  ]\n",
        "\n",
        "  deukae = [\n",
        "      \"jiu\",\n",
        "      \"sua\",\n",
        "      \"siyeon\",\n",
        "      \"handong\",\n",
        "      \"yoohyeon\",\n",
        "      \"dami\",\n",
        "      \"gahyeon\"\n",
        "  ]\n",
        "\n",
        "  return loona, loona_prob, deukae, deukae_prob"
      ],
      "execution_count": null,
      "outputs": []
    },
    {
      "cell_type": "code",
      "metadata": {
        "id": "pyxgY2_2Yfpc"
      },
      "source": [
        "def update_probs(loona_prob, deukae_prob, loona, deukae, loona_choice, deukae_choice):\r\n",
        "  for i in range(len(loona)):\r\n",
        "    if loona[i] != loona_choice:\r\n",
        "      loona_prob[i] += 1.0/12\r\n",
        "    else:\r\n",
        "      loona_prob[i] = 1.0/12\r\n",
        "\r\n",
        "  for i in range(len(deukae)):\r\n",
        "    if deukae[i] != deukae_choice:\r\n",
        "      deukae_prob[i] += 1.0/7\r\n",
        "    else:\r\n",
        "      deukae_prob[i] = 1.0/7\r\n",
        "\r\n",
        "  return loona_prob, deukae_prob"
      ],
      "execution_count": null,
      "outputs": []
    },
    {
      "cell_type": "code",
      "metadata": {
        "id": "E7WLTcT7xa6H"
      },
      "source": [
        "import random \n",
        "\n",
        "n_clusters = 50\n",
        "\n",
        "def first_run():  \n",
        "\n",
        "  dataset = load_zero()\n",
        "  X = prepareX(dataset)\n",
        "  kmeans = do_kmeans(X, n_clusters) \n",
        "\n",
        "  imageLoona = None\n",
        "  imageDeukae = None\n",
        "\n",
        "  face_flag = 0\n",
        "\n",
        "  images_to_post = {'loona': [], 'deukae': []}\n",
        "\n",
        "  # first time\n",
        "\n",
        "  loona, loona_prob, deukae, deukae_prob = get_probs()\n",
        "  loona_choice = random.choice(loona, weights=loona_prob) \n",
        "  deukae_choice = random.choice(deukae, weights=deukae_prob) \n",
        "  loona_prob, deukae_prob = update_probs(loona_prob, deukae_prob, loona, deukae, loona_choice, deukae_choice)\n",
        "\n",
        "  for i in range(192):\n",
        "    print(loona_choice, deukae_choice) \n",
        "    imageLoona, imageDeukae = -1, -1\n",
        "    clusterList = random.choices(range(n_clusters), k=n_clusters)\n",
        "    #get image pair for post\n",
        "    for c in clusterList:\n",
        "      for image_id, cluster in enumerate(kmeans.labels_):\n",
        "          if not dataset[\"post\"][image_id]:\n",
        "            if cluster == c:\n",
        "              if loonaList[0] in dataset[\"filename\"][image_id]:\n",
        "                print(image_id)\n",
        "                imageLoona = image_id\n",
        "                break\n",
        "\n",
        "      for image_id, cluster in enumerate(kmeans.labels_):\n",
        "          if not dataset[\"post\"][image_id]:\n",
        "            if cluster == c:\n",
        "              if deukaeList[0] in dataset[\"filename\"][image_id]:\n",
        "                print(image_id)\n",
        "                imageDeukae = image_id\n",
        "                break\n",
        "\n",
        "      if (imageLoona != -1) and (imageDeukae != -1):\n",
        "        dataset[\"post\"][imageLoona] = True\n",
        "        dataset[\"post\"][imageDeukae] = True\n",
        "        # new pair\n",
        "        loona_choice = random.choice(loona, weights=loona_prob) \n",
        "        deukae_choice = random.choice(deukae, weights=deukae_prob) \n",
        "        loona_prob, deukae_prob = update_probs(loona_prob, deukae_prob, loona, deukae, loona_choice, deukae_choice)\n",
        "        # get out and choose right image\n",
        "        break\n",
        "    \n",
        "    if (imageLoona != -1) and (imageDeukae != -1):\n",
        "      images_to_post['loona'].append(dataset[\"filename\"][imageLoona])\n",
        "      images_to_post['deukae'].append(dataset[\"filename\"][imageDeukae])\n",
        "    else:\n",
        "      print(\"No more image combinations for the pair\")\n",
        "\n",
        "    #cv2_imshow(dataset[\"image\"][imageLoona])\n",
        "    #cv2_imshow(dataset[\"image\"][imageDeukae])\n",
        "\n",
        "  # generate dfs for saving\n",
        "\n",
        "  del dataset['image']\n",
        "  df_dataset = pd.DataFrame(dataset)\n",
        "\n",
        "  df_images_to_post = pd.DataFrame(images_to_post)\n",
        "\n",
        "  df_loona = {'name': [], 'prob': []}\n",
        "  df_loona['name'] = loona\n",
        "  df_loona['prob'] = loona_prob\n",
        "  df_loona = pd.DataFrame(df_loona)\n",
        "\n",
        "  df_deukae = {'name': [], 'prob': []}\n",
        "  df_deukae['name'] = deukae\n",
        "  df_deukae['prob'] = deukae_prob\n",
        "  df_deukae = pd.DataFrame(df_deukae)\n",
        "\n",
        "  df_dataset.to_csv('/content/drive/MyDrive/hourlyloonacatcher_dfs/df_dataset.csv')\n",
        "  df_images_to_post.to_csv('/content/drive/MyDrive/hourlyloonacatcher_dfs/images_to_post.csv')\n",
        "  df_loona.to_csv('/content/drive/MyDrive/hourlyloonacatcher_dfs/df_loona.csv')\n",
        "  df_deukae.to_csv('/content/drive/MyDrive/hourlyloonacatcher_dfs/df_deukae.csv')"
      ],
      "execution_count": null,
      "outputs": []
    },
    {
      "cell_type": "code",
      "metadata": {
        "id": "nFcOO_Er-XJk"
      },
      "source": [
        "# when no images pairs were generated previously\n",
        "first_run()"
      ],
      "execution_count": null,
      "outputs": []
    },
    {
      "cell_type": "code",
      "metadata": {
        "id": "8TqnKTryNrv3"
      },
      "source": [
        "df = pd.read_csv('/content/drive/MyDrive/hourlyloonacatcher_dfs/df_dataset.csv').drop(columns='Unnamed: 0').reset_index().drop(columns='index')"
      ],
      "execution_count": null,
      "outputs": []
    },
    {
      "cell_type": "code",
      "metadata": {
        "id": "If2zm-vzN806"
      },
      "source": [
        "len(df[df['post'] == True])"
      ],
      "execution_count": null,
      "outputs": []
    }
  ]
}